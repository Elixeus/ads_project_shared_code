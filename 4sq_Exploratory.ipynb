{
 "cells": [
  {
   "cell_type": "code",
   "execution_count": 71,
   "metadata": {
    "collapsed": false
   },
   "outputs": [
    {
     "name": "stdout",
     "output_type": "stream",
     "text": [
      "Populating the interactive namespace from numpy and matplotlib\n"
     ]
    },
    {
     "name": "stderr",
     "output_type": "stream",
     "text": [
      "WARNING: pylab import has clobbered these variables: ['plt']\n",
      "`%matplotlib` prevents importing * from pylab and numpy\n"
     ]
    }
   ],
   "source": [
    "__author__ = \"me\"\n",
    "__date__ = \"2015_10_13\"\n",
    "%pylab inline\n",
    "import pandas as pd\n",
    "import numpy as np\n",
    "import geopandas as gp\n",
    "import datetime\n",
    "import pylab as plt\n",
    "import os\n",
    "\n",
    "from palettable.colorbrewer.qualitative import Paired_11\n",
    "from palettable.wesanderson import GrandBudapest3_6\n",
    "\n",
    "import requests\n",
    "s = requests.get(\"https://raw.githubusercontent.com/Casyfill/CUSP_templates/master/Py/fbMatplotlibrc.json\").json()\n",
    "plt.rcParams.update(s)"
   ]
  },
  {
   "cell_type": "code",
   "execution_count": 41,
   "metadata": {
    "collapsed": true
   },
   "outputs": [],
   "source": [
    "### automatically gets all dataframes from 'finished_data' folder, \n",
    "### so you can add more files and run code withoit\n",
    "### any chage\n",
    "\n",
    "\n",
    "def getAllFinished(mypath):\n",
    "    cols = ['ID',\n",
    "            'category',\n",
    "            'checkIns',\n",
    "            'createdAt',\n",
    "            'description',\n",
    "            'genCategory',\n",
    "            'lat','lon',\n",
    "            'name',\n",
    "            'photoCount',\n",
    "            'price',\n",
    "            'query','rating',\n",
    "            'tags','tileID',\n",
    "            'time','tips',\n",
    "            'users','verified']\n",
    "    \n",
    "    files = [ f for f in os.listdir(mypath) if (os.path.isfile(os.path.join(mypath,f)) and ('.csv' in f)) ]\n",
    "#     print files\n",
    "    return {k.replace('.csv',''):pd.read_csv(os.path.join(mypath,k))[cols] for k in files}"
   ]
  },
  {
   "cell_type": "code",
   "execution_count": 42,
   "metadata": {
    "collapsed": false
   },
   "outputs": [],
   "source": [
    "dfs = getAllFinished('/Users/casy/Dropbox/CUSP/project/Square_cities/data/finished_data/')"
   ]
  },
  {
   "cell_type": "markdown",
   "metadata": {},
   "source": [
    "## I.a Total amount of venues vs population"
   ]
  },
  {
   "cell_type": "code",
   "execution_count": null,
   "metadata": {
    "collapsed": true
   },
   "outputs": [],
   "source": [
    "pop = pd.read_csv()"
   ]
  },
  {
   "cell_type": "code",
   "execution_count": 80,
   "metadata": {
    "collapsed": false
   },
   "outputs": [
    {
     "data": {
      "image/png": "[encoded data removed]",
      "text/plain": [
       "<matplotlib.figure.Figure at 0x111327ed0>"
      ]
     },
     "metadata": {},
     "output_type": "display_data"
    }
   ],
   "source": [
    "x = pd.Series({k:len(v) for k,v in dfs.iteritems()}).plot(kind='barh',color='k');\n",
    "plt.savefig('img/cities_venues.png')"
   ]
  },
  {
   "cell_type": "code",
   "execution_count": 81,
   "metadata": {
    "collapsed": false
   },
   "outputs": [
    {
     "data": {
      "image/png": "[encoded data removed]",
      "text/plain": [
       "<matplotlib.figure.Figure at 0x118f899d0>"
      ]
     },
     "metadata": {},
     "output_type": "display_data"
    }
   ],
   "source": [
    "pd.Series({k:len(v[v.checkIns>10]) for k,v in dfs.iteritems()}).plot(kind='barh',color='k');\n",
    "plt.savefig('img/cities_venues_filtered.png')"
   ]
  },
  {
   "cell_type": "markdown",
   "metadata": {
    "collapsed": false
   },
   "source": [
    "## I.b Percentage of general categories for each city (in venues. unspecified venues were filtered)"
   ]
  },
  {
   "cell_type": "code",
   "execution_count": 43,
   "metadata": {
    "collapsed": true
   },
   "outputs": [],
   "source": [
    "def getPercentage(df):\n",
    "#     df['genCategory'].fillna('Unspecified', inplace=1)\n",
    "    df['genCategory'].replace('126',np.nan,inplace=1)\n",
    "    df = df[pd.notnull(df.genCategory)]\n",
    "    \n",
    "    x = 100.0*df.groupby('genCategory').size()/len(df)\n",
    "#     print len(df[pd.isnull(df.genCategory)])\n",
    "#     print x.sum()\n",
    "    return x"
   ]
  },
  {
   "cell_type": "code",
   "execution_count": 44,
   "metadata": {
    "collapsed": true
   },
   "outputs": [],
   "source": [
    "pDF = pd.DataFrame( {k:getPercentage(v) for k,v in dfs.iteritems()})"
   ]
  },
  {
   "cell_type": "code",
   "execution_count": 45,
   "metadata": {
    "collapsed": false
   },
   "outputs": [
    {
     "data": {
      "text/html": [
       "<div>\n",
       "<table border=\"1\" class=\"dataframe\">\n",
       "  <thead>\n",
       "    <tr style=\"text-align: right;\">\n",
       "      <th></th>\n",
       "      <th>Moscow</th>\n",
       "      <th>New_York</th>\n",
       "      <th>San Francisco</th>\n",
       "      <th>Shanghai</th>\n",
       "      <th>Singapur</th>\n",
       "      <th>Tokyo</th>\n",
       "    </tr>\n",
       "    <tr>\n",
       "      <th>genCategory</th>\n",
       "      <th></th>\n",
       "      <th></th>\n",
       "      <th></th>\n",
       "      <th></th>\n",
       "      <th></th>\n",
       "      <th></th>\n",
       "    </tr>\n",
       "  </thead>\n",
       "  <tbody>\n",
       "    <tr>\n",
       "      <th>Arts &amp; Entertainment</th>\n",
       "      <td>5.444131</td>\n",
       "      <td>4.627007</td>\n",
       "      <td>3.883668</td>\n",
       "      <td>3.504619</td>\n",
       "      <td>3.861515</td>\n",
       "      <td>3.827947</td>\n",
       "    </tr>\n",
       "    <tr>\n",
       "      <th>College &amp; University</th>\n",
       "      <td>5.776664</td>\n",
       "      <td>2.628044</td>\n",
       "      <td>2.370948</td>\n",
       "      <td>4.283679</td>\n",
       "      <td>7.373436</td>\n",
       "      <td>1.797429</td>\n",
       "    </tr>\n",
       "    <tr>\n",
       "      <th>Event</th>\n",
       "      <td>0.080086</td>\n",
       "      <td>0.083789</td>\n",
       "      <td>0.099320</td>\n",
       "      <td>0.078136</td>\n",
       "      <td>0.064844</td>\n",
       "      <td>0.136169</td>\n",
       "    </tr>\n",
       "    <tr>\n",
       "      <th>Food</th>\n",
       "      <td>10.811658</td>\n",
       "      <td>23.498118</td>\n",
       "      <td>21.608475</td>\n",
       "      <td>35.935561</td>\n",
       "      <td>18.542604</td>\n",
       "      <td>27.213745</td>\n",
       "    </tr>\n",
       "    <tr>\n",
       "      <th>Nightlife Spot</th>\n",
       "      <td>2.935339</td>\n",
       "      <td>5.234808</td>\n",
       "      <td>4.604375</td>\n",
       "      <td>2.895620</td>\n",
       "      <td>2.725333</td>\n",
       "      <td>5.466779</td>\n",
       "    </tr>\n",
       "    <tr>\n",
       "      <th>Outdoors &amp; Recreation</th>\n",
       "      <td>8.858247</td>\n",
       "      <td>6.185745</td>\n",
       "      <td>8.885324</td>\n",
       "      <td>3.745921</td>\n",
       "      <td>8.804706</td>\n",
       "      <td>7.762425</td>\n",
       "    </tr>\n",
       "    <tr>\n",
       "      <th>Professional &amp; Other Places</th>\n",
       "      <td>26.499878</td>\n",
       "      <td>22.051098</td>\n",
       "      <td>24.498943</td>\n",
       "      <td>16.852048</td>\n",
       "      <td>28.670507</td>\n",
       "      <td>17.362329</td>\n",
       "    </tr>\n",
       "    <tr>\n",
       "      <th>Residence</th>\n",
       "      <td>8.994046</td>\n",
       "      <td>3.920786</td>\n",
       "      <td>3.168055</td>\n",
       "      <td>4.835225</td>\n",
       "      <td>6.190266</td>\n",
       "      <td>1.282390</td>\n",
       "    </tr>\n",
       "    <tr>\n",
       "      <th>Shop &amp; Service</th>\n",
       "      <td>23.153661</td>\n",
       "      <td>22.455412</td>\n",
       "      <td>23.724756</td>\n",
       "      <td>17.447258</td>\n",
       "      <td>14.073998</td>\n",
       "      <td>25.900917</td>\n",
       "    </tr>\n",
       "    <tr>\n",
       "      <th>Travel &amp; Transport</th>\n",
       "      <td>7.446290</td>\n",
       "      <td>9.315192</td>\n",
       "      <td>7.156136</td>\n",
       "      <td>10.421933</td>\n",
       "      <td>9.692789</td>\n",
       "      <td>9.249870</td>\n",
       "    </tr>\n",
       "  </tbody>\n",
       "</table>\n",
       "</div>"
      ],
      "text/plain": [
       "                                Moscow   New_York  San Francisco   Shanghai  \\\n",
       "genCategory                                                                   \n",
       "Arts & Entertainment          5.444131   4.627007       3.883668   3.504619   \n",
       "College & University          5.776664   2.628044       2.370948   4.283679   \n",
       "Event                         0.080086   0.083789       0.099320   0.078136   \n",
       "Food                         10.811658  23.498118      21.608475  35.935561   \n",
       "Nightlife Spot                2.935339   5.234808       4.604375   2.895620   \n",
       "Outdoors & Recreation         8.858247   6.185745       8.885324   3.745921   \n",
       "Professional & Other Places  26.499878  22.051098      24.498943  16.852048   \n",
       "Residence                     8.994046   3.920786       3.168055   4.835225   \n",
       "Shop & Service               23.153661  22.455412      23.724756  17.447258   \n",
       "Travel & Transport            7.446290   9.315192       7.156136  10.421933   \n",
       "\n",
       "                              Singapur      Tokyo  \n",
       "genCategory                                        \n",
       "Arts & Entertainment          3.861515   3.827947  \n",
       "College & University          7.373436   1.797429  \n",
       "Event                         0.064844   0.136169  \n",
       "Food                         18.542604  27.213745  \n",
       "Nightlife Spot                2.725333   5.466779  \n",
       "Outdoors & Recreation         8.804706   7.762425  \n",
       "Professional & Other Places  28.670507  17.362329  \n",
       "Residence                     6.190266   1.282390  \n",
       "Shop & Service               14.073998  25.900917  \n",
       "Travel & Transport            9.692789   9.249870  "
      ]
     },
     "execution_count": 45,
     "metadata": {},
     "output_type": "execute_result"
    }
   ],
   "source": [
    "pDF"
   ]
  },
  {
   "cell_type": "code",
   "execution_count": 64,
   "metadata": {
    "collapsed": false
   },
   "outputs": [
    {
     "data": {
      "image/png": "[encoded data removed]",
      "text/plain": [
       "<matplotlib.figure.Figure at 0x11797ab10>"
      ]
     },
     "metadata": {},
     "output_type": "display_data"
    }
   ],
   "source": [
    "pDF.T.plot(kind='barh',stacked=1, figsize=(6,6), cmap=Paired_11.mpl_colormap,\n",
    "           title='Normalised ratio of general Categories (number of venues)' );\n",
    "\n",
    "lgd = plt.legend(loc=(1.1,0.425))\n",
    "\n",
    "plt.savefig('img/cities_comparison.png', bbox_extra_artists=(lgd,), bbox_inches='tight')"
   ]
  },
  {
   "cell_type": "code",
   "execution_count": null,
   "metadata": {
    "collapsed": true
   },
   "outputs": [],
   "source": []
  }
 ],
 "metadata": {
  "kernelspec": {
   "display_name": "Python 2",
   "language": "python",
   "name": "python2"
  },
  "language_info": {
   "codemirror_mode": {
    "name": "ipython",
    "version": 2
   },
   "file_extension": ".py",
   "mimetype": "text/x-python",
   "name": "python",
   "nbconvert_exporter": "python",
   "pygments_lexer": "ipython2",
   "version": "2.7.10"
  }
 },
 "nbformat": 4,
 "nbformat_minor": 0
}
